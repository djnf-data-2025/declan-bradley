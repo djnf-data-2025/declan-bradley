{
 "cells": [
  {
   "cell_type": "code",
   "execution_count": 81,
   "id": "16356b6a",
   "metadata": {},
   "outputs": [],
   "source": [
    "import pandas as pd\n",
    "import requests\n",
    "import time"
   ]
  },
  {
   "cell_type": "code",
   "execution_count": 82,
   "id": "d4824eeb",
   "metadata": {},
   "outputs": [],
   "source": [
    "target_keys = ['Title',\n",
    "'Accident_x0020_Date',\n",
    "'Geolocation_x0020_Latitude',\n",
    " 'Geolocation_x0020_Longitude',\n",
    " 'NSTB_x0020_Investigation_x0020_Status',\n",
    " 'NTSB_x0020_Title',\n",
    " 'Executive_x0020_Summary',\n",
    " 'Probable_x0020_Cause',\n",
    " 'AccidentContent',\n",
    " 'AccidentCount',\n",
    " 'AccidentHeader',\n",
    " 'DisclaimerContent',\n",
    " 'WhatHappened',\n",
    " 'WhatWeFound',\n",
    " 'WhatWeRecommended',\n",
    " 'IIC',\n",
    " 'LessonsLearned',\n",
    " 'Waterway',\n",
    " 'InvestigativeDetailVideo1',\n",
    " 'InvestigativeDetailVideo2',\n",
    " 'InvestigativeDetailVideo3',\n",
    " 'InvestigativeDetailVideo4',\n",
    " 'InvestigativeDetailVideo1Title',\n",
    " 'InvestigativeDetailVideo2Title',\n",
    " 'InvestigativeDetailVideo3Title',\n",
    " 'InvestigativeDetailVideo4Title',\n",
    " 'RelatedSafetyAlert',\n",
    " 'RelatedRecommendations',\n",
    " 'RelatedReports']\n",
    " "
   ]
  },
  {
   "cell_type": "code",
   "execution_count": 83,
   "id": "211b6c73",
   "metadata": {},
   "outputs": [],
   "source": [
    "def response_to_df(response):\n",
    "    return pd.DataFrame([{k: result[k] for k in target_keys} for result in response['d']['results']])"
   ]
  },
  {
   "cell_type": "code",
   "execution_count": 84,
   "id": "a6c2893b",
   "metadata": {},
   "outputs": [],
   "source": [
    "cookies = {\n",
    "    'WSS_FullScreenMode': 'false',\n",
    "    'cf_clearance': 'c9qGWVWJnPlRqCL7oy6rPYR4wIPdAfMEl_DXvbXCYAU-1748691878-1.2.1.1-CQwe.s3dHMKGb2ibRMFKB0qr4UTDas1JbzJAt0cSLhZXIreV2xCTCMINBQH4iKuOnaAg9daY3T4RjU8Vt5XAgCPkcwNA9QwKrDae9sk6jmCqqpwZiAyy.uRO03vZlr2nkG_23ziE45Rfif3DqXX1mEYn.y0A3QIIzW37Cfia1AVFXzZ_hFnQwqhv1fvPBoBZ1xOF1l.FpN89MlW2SZWMRZ6A_9BJOajQIRzcOYQdJ64nIyLBfbWUK6UfjDCpp.H2hqi5wLTP_kgJTWWgo5xd270OlO0f9Z50L_i1TA1H4iM0rmqOVJGOM5JcIz1kReOKFLK54fQRmbGgmbYGR4XErvEnErca0PFTMI7BRniurHQ',\n",
    "    'ai_user': 'tgfMI0q/66/Vx0Z2In1/5y|2025-05-31T11:44:38.976Z',\n",
    "    'cfzs_google-analytics_v4': '%7B%22STXt_pageviewCounter%22%3A%7B%22v%22%3A%223%22%7D%7D',\n",
    "    'cfz_google-analytics_v4': '%7B%22STXt_engagementDuration%22%3A%7B%22v%22%3A%220%22%2C%22e%22%3A1780228062002%7D%2C%22STXt_engagementStart%22%3A%7B%22v%22%3A1748692162290%2C%22e%22%3A1780228162580%7D%2C%22STXt_counter%22%3A%7B%22v%22%3A%224%22%2C%22e%22%3A1780228062002%7D%2C%22STXt_ga4sid%22%3A%7B%22v%22%3A%221639016860%22%2C%22e%22%3A1748693862002%7D%2C%22STXt_session_counter%22%3A%7B%22v%22%3A%221%22%2C%22e%22%3A1780228062002%7D%2C%22STXt_ga4%22%3A%7B%22v%22%3A%2228a057db-0037-47ba-af13-1df1ecd5ad42%22%2C%22e%22%3A1780228062002%7D%2C%22STXt_let%22%3A%7B%22v%22%3A%221748692062002%22%2C%22e%22%3A1780228062002%7D%7D',\n",
    "    'ai_session': 'G7er5O7XjuPkny5GerqyAF|1748691878982|1748692162434',\n",
    "}\n",
    "\n",
    "headers = {\n",
    "    'accept': 'application/json; odata=verbose',\n",
    "    'accept-language': 'en-US,en;q=0.7',\n",
    "    'if-modified-since': 'Sat, 31 May 2025 11:49:27 GMT',\n",
    "    'priority': 'u=1, i',\n",
    "    'referer': 'https://www.ntsb.gov/investigations/Pages/Investigations.aspx',\n",
    "    'request-id': '|853fdce465444a0b9d4925fbf4309c2e.550976b2800e4a2f',\n",
    "    'sec-ch-ua': '\"Brave\";v=\"137\", \"Chromium\";v=\"137\", \"Not/A)Brand\";v=\"24\"',\n",
    "    'sec-ch-ua-mobile': '?0',\n",
    "    'sec-ch-ua-platform': '\"macOS\"',\n",
    "    'sec-fetch-dest': 'empty',\n",
    "    'sec-fetch-mode': 'cors',\n",
    "    'sec-fetch-site': 'same-origin',\n",
    "    'sec-gpc': '1',\n",
    "    'traceparent': '00-853fdce465444a0b9d4925fbf4309c2e-550976b2800e4a2f-01',\n",
    "    'user-agent': 'Mozilla/5.0 (Macintosh; Intel Mac OS X 10_15_7) AppleWebKit/537.36 (KHTML, like Gecko) Chrome/137.0.0.0 Safari/537.36',\n",
    "    # 'cookie': 'WSS_FullScreenMode=false; cf_clearance=c9qGWVWJnPlRqCL7oy6rPYR4wIPdAfMEl_DXvbXCYAU-1748691878-1.2.1.1-CQwe.s3dHMKGb2ibRMFKB0qr4UTDas1JbzJAt0cSLhZXIreV2xCTCMINBQH4iKuOnaAg9daY3T4RjU8Vt5XAgCPkcwNA9QwKrDae9sk6jmCqqpwZiAyy.uRO03vZlr2nkG_23ziE45Rfif3DqXX1mEYn.y0A3QIIzW37Cfia1AVFXzZ_hFnQwqhv1fvPBoBZ1xOF1l.FpN89MlW2SZWMRZ6A_9BJOajQIRzcOYQdJ64nIyLBfbWUK6UfjDCpp.H2hqi5wLTP_kgJTWWgo5xd270OlO0f9Z50L_i1TA1H4iM0rmqOVJGOM5JcIz1kReOKFLK54fQRmbGgmbYGR4XErvEnErca0PFTMI7BRniurHQ; ai_user=tgfMI0q/66/Vx0Z2In1/5y|2025-05-31T11:44:38.976Z; cfzs_google-analytics_v4=%7B%22STXt_pageviewCounter%22%3A%7B%22v%22%3A%223%22%7D%7D; cfz_google-analytics_v4=%7B%22STXt_engagementDuration%22%3A%7B%22v%22%3A%220%22%2C%22e%22%3A1780228062002%7D%2C%22STXt_engagementStart%22%3A%7B%22v%22%3A1748692162290%2C%22e%22%3A1780228162580%7D%2C%22STXt_counter%22%3A%7B%22v%22%3A%224%22%2C%22e%22%3A1780228062002%7D%2C%22STXt_ga4sid%22%3A%7B%22v%22%3A%221639016860%22%2C%22e%22%3A1748693862002%7D%2C%22STXt_session_counter%22%3A%7B%22v%22%3A%221%22%2C%22e%22%3A1780228062002%7D%2C%22STXt_ga4%22%3A%7B%22v%22%3A%2228a057db-0037-47ba-af13-1df1ecd5ad42%22%2C%22e%22%3A1780228062002%7D%2C%22STXt_let%22%3A%7B%22v%22%3A%221748692062002%22%2C%22e%22%3A1780228062002%7D%7D; ai_session=G7er5O7XjuPkny5GerqyAF|1748691878982|1748692162434',\n",
    "}"
   ]
  },
  {
   "cell_type": "code",
   "execution_count": null,
   "id": "e1c5881e",
   "metadata": {},
   "outputs": [
    {
     "name": "stdout",
     "output_type": "stream",
     "text": [
      "(100, 29)\n",
      "(100, 29)\n",
      "(100, 29)\n",
      "(100, 29)\n",
      "(100, 29)\n",
      "(29, 29)\n"
     ]
    },
    {
     "ename": "KeyError",
     "evalue": "'__next'",
     "output_type": "error",
     "traceback": [
      "\u001b[0;31m---------------------------------------------------------------------------\u001b[0m\n",
      "\u001b[0;31mKeyError\u001b[0m                                  Traceback (most recent call last)\n",
      "Cell \u001b[0;32mIn[85], line 16\u001b[0m\n",
      "\u001b[1;32m     14\u001b[0m \u001b[38;5;28;01mtry\u001b[39;00m:\n",
      "\u001b[1;32m     15\u001b[0m     response \u001b[38;5;241m=\u001b[39m requests\u001b[38;5;241m.\u001b[39mget(\n",
      "\u001b[0;32m---> 16\u001b[0m         \u001b[43mdata\u001b[49m\u001b[43m[\u001b[49m\u001b[38;5;124;43m'\u001b[39;49m\u001b[38;5;124;43md\u001b[39;49m\u001b[38;5;124;43m'\u001b[39;49m\u001b[43m]\u001b[49m\u001b[43m[\u001b[49m\u001b[38;5;124;43m'\u001b[39;49m\u001b[38;5;124;43m__next\u001b[39;49m\u001b[38;5;124;43m'\u001b[39;49m\u001b[43m]\u001b[49m,\n",
      "\u001b[1;32m     17\u001b[0m         cookies\u001b[38;5;241m=\u001b[39mcookies,\n",
      "\u001b[1;32m     18\u001b[0m         headers\u001b[38;5;241m=\u001b[39mheaders,\n",
      "\u001b[1;32m     19\u001b[0m     )\n",
      "\u001b[1;32m     20\u001b[0m \u001b[38;5;28;01mexcept\u001b[39;00m:\n",
      "\n",
      "\u001b[0;31mKeyError\u001b[0m: '__next'\n",
      "\n",
      "During handling of the above exception, another exception occurred:\n",
      "\n",
      "\u001b[0;31mKeyError\u001b[0m                                  Traceback (most recent call last)\n",
      "Cell \u001b[0;32mIn[85], line 23\u001b[0m\n",
      "\u001b[1;32m     20\u001b[0m \u001b[38;5;28;01mexcept\u001b[39;00m:\n",
      "\u001b[1;32m     21\u001b[0m     time\u001b[38;5;241m.\u001b[39msleep(\u001b[38;5;241m3\u001b[39m)\n",
      "\u001b[1;32m     22\u001b[0m     response \u001b[38;5;241m=\u001b[39m requests\u001b[38;5;241m.\u001b[39mget(\n",
      "\u001b[0;32m---> 23\u001b[0m         \u001b[43mdata\u001b[49m\u001b[43m[\u001b[49m\u001b[38;5;124;43m'\u001b[39;49m\u001b[38;5;124;43md\u001b[39;49m\u001b[38;5;124;43m'\u001b[39;49m\u001b[43m]\u001b[49m\u001b[43m[\u001b[49m\u001b[38;5;124;43m'\u001b[39;49m\u001b[38;5;124;43m__next\u001b[39;49m\u001b[38;5;124;43m'\u001b[39;49m\u001b[43m]\u001b[49m,\n",
      "\u001b[1;32m     24\u001b[0m         cookies\u001b[38;5;241m=\u001b[39mcookies,\n",
      "\u001b[1;32m     25\u001b[0m         headers\u001b[38;5;241m=\u001b[39mheaders,\n",
      "\u001b[1;32m     26\u001b[0m     )\n",
      "\n",
      "\u001b[0;31mKeyError\u001b[0m: '__next'"
     ]
    }
   ],
   "source": [
    "response = requests.get(\n",
    "    'https://www.ntsb.gov/investigations/_api/web/Lists/Pages/items?$top=100&$orderby=Accident_x0020_Date%20desc&$expand=ContentType,File&$filter=ContentType%20eq%20%27NTSBInvestigationDetail%27%20and%20Mode%20eq%20%27Railroad%27',\n",
    "    cookies=cookies,\n",
    "    headers=headers,\n",
    ")\n",
    "\n",
    "while '__next' in data:\n",
    "    data = response.json()\n",
    "    df = response_to_df(data)\n",
    "    print(df.shape)\n",
    "    df.to_csv(f'data/rail/ntsb-scrape/scrape_{i}.csv')\n",
    "\n",
    "    time.sleep(0.2)\n",
    "    try:\n",
    "        response = requests.get(\n",
    "            data['d']['__next'],\n",
    "            cookies=cookies,\n",
    "            headers=headers,\n",
    "        )\n",
    "    except:\n",
    "        time.sleep(3)\n",
    "        response = requests.get(\n",
    "            data['d']['__next'],\n",
    "            cookies=cookies,\n",
    "            headers=headers,\n",
    "        )"
   ]
  }
 ],
 "metadata": {
  "language_info": {
   "name": "python"
  }
 },
 "nbformat": 4,
 "nbformat_minor": 5
}
